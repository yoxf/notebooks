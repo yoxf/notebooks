{
 "cells": [
  {
   "cell_type": "markdown",
   "metadata": {},
   "source": [
    "# The cartopy Feature interface"
   ]
  },
  {
   "cell_type": "markdown",
   "metadata": {},
   "source": [
    "#### The primary class for integrating cartopy into matplotlib is the GeoAxes, which is a subclass of a normal matplotlib Axes. The GeoAxes class adds extra functionality to an axes which is specific to drawing maps. The majority of the methods which have been specialised from the original Axes are there to add improved -expected- behaviour, but some are to work around limitations that the standard matplotlib axes treats data in a Cartesian way (most of which either have, or will be, submitted back to the matplotlib project).\n",
    "\n",
    "翻译： GeoAxes是cartopy整合进matplotlib的主要类，它是matplotlib Axes的子类"
   ]
  },
  {
   "cell_type": "code",
   "execution_count": null,
   "metadata": {
    "collapsed": true
   },
   "outputs": [],
   "source": [
    "class cartopy.mpl.geoaxes.GeoAxes(*args, **kwargs)[source]"
   ]
  },
  {
   "cell_type": "markdown",
   "metadata": {},
   "source": [
    "#### A subclass of matplotlib.axes.Axes which represents a map Projection.\n",
    "This class replaces the matplotlib Axes class when created with the projection keyword. For example:\n",
    "matplotlib.axes.Axes 的子类表示一个地图投影，当创建一个带有projection的关键字时可以代替matplotlib Axes 类（覆盖）"
   ]
  },
  {
   "cell_type": "markdown",
   "metadata": {},
   "source": [
    "```\n",
    "    # Set up a standard map for latlon data.\n",
    "    geo_axes = pyplot.axes(projection=cartopy.crs.PlateCarree())\n",
    "\n",
    "    # Set up an OSGB map.\n",
    "    geo_axes = pyplot.subplot(2, 2, 1, projection=cartopy.crs.OSGB())\n",
    "```"
   ]
  },
  {
   "cell_type": "markdown",
   "metadata": {},
   "source": [
    "#### When a source projection is provided to one of it’s plotting methods, using the transform keyword, the standard matplotlib plot result is transformed from source coordinates to the target projection. For example:\n",
    "\n",
    "一个源地图项目提供给matplotlib中的绘图函数一个transform关键字时，表中的matplotlib 绘图函数结果被映射到相应的目标项目（地图项目）中。（在地图中增加数据，通过tuansfom关键字把数据转换成地图对应的数据格式）"
   ]
  },
  {
   "cell_type": "code",
   "execution_count": null,
   "metadata": {
    "collapsed": true
   },
   "outputs": [],
   "source": [
    "# Plot latlon data on an OSGB map.\n",
    "pyplot.axes(projection=cartopy.crs.OSGB())\n",
    "pyplot.contourf(x, y, data, transform=cartopy.crs.PlateCarree())"
   ]
  },
  {
   "cell_type": "markdown",
   "metadata": {},
   "source": [
    "#### Create a GeoAxes object using standard matplotlib Axes args and kwargs.\n",
    "使用标准的 matplotlib Axes args 和 kwargs 创建一个 GeoAxes 对象"
   ]
  },
  {
   "cell_type": "markdown",
   "metadata": {},
   "source": [
    "#### Kwargs:\n",
    "map_projection - The target Projection of this Axes object.\n",
    "轴对象的目标投影\n",
    "\n",
    "All other args and keywords are passed through to matplotlib.axes.Axes.\n",
    "\n",
    "其他参数和关键字都通过 matplotlib.axes.Axes传递"
   ]
  },
  {
   "cell_type": "markdown",
   "metadata": {},
   "source": [
    "## add_feature(feature, **kwargs)[source]"
   ]
  },
  {
   "cell_type": "markdown",
   "metadata": {},
   "source": [
    "#### Adds the given Feature instance to the axes.\n",
    "将给定的功能实例添加到坐标轴。"
   ]
  },
  {
   "cell_type": "markdown",
   "metadata": {},
   "source": [
    "```Args:\n",
    "feature:\n",
    "An instance of Feature.\n",
    "\n",
    "Kwargs:\n",
    "Keyword arguments to be used when drawing the feature. This allows standard matplotlib control over aspects such as ‘facecolor’, ‘alpha’, etc.\n",
    "\n",
    "Returns:\n",
    "A cartopy.mpl.feature_artist.FeatureArtist instance responsible for drawing the feature.```"
   ]
  },
  {
   "cell_type": "markdown",
   "metadata": {},
   "source": [
    "### add_geometries(geoms, crs, **kwargs)[source]"
   ]
  },
  {
   "cell_type": "markdown",
   "metadata": {},
   "source": [
    "```\n",
    "Add the given shapely geometries (in the given crs) to the axes.\n",
    "\n",
    "Args:\n",
    "\n",
    "geoms:\n",
    "A collection of shapely geometries.\n",
    "\n",
    "crs:\n",
    "The cartopy CRS in which the provided geometries are defined.\n",
    "\n",
    "Kwargs:\n",
    "Keyword arguments to be used when drawing this feature.\n",
    "Returns:\n",
    "A cartopy.mpl.feature_artist.FeatureArtist instance responsible for drawing the geometries.```"
   ]
  },
  {
   "cell_type": "markdown",
   "metadata": {},
   "source": [
    "## add_image(factory, *args, **kwargs)[source]"
   ]
  },
  {
   "cell_type": "markdown",
   "metadata": {},
   "source": [
    "```Adds an image “factory” to the Axes.\n",
    "\n",
    "Any image “factory” added, will be asked to retrieve an image with associated metadata for a given bounding box at draw time. The advantage of this approach is that the limits of the map do not need to be known when adding the image factory, but can be deferred until everything which can effect the limits has been added.\n",
    "\n",
    "Currently an image “factory” is just an object with a image_for_domain method. Examples of image factories are cartopy.io.img_nest.NestedImageCollection and cartopy.io.image_tiles.GoogleTiles.\n",
    "\n",
    "add_raster(raster_source, **slippy_image_kwargs)[source]```"
   ]
  },
  {
   "cell_type": "markdown",
   "metadata": {},
   "source": [
    "```Add the given raster source to the GeoAxes.\n",
    "\n",
    "raster_source\n",
    ": cartopy.io.RasterSource like instance\n",
    "raster_source may be any object which implements the RasterSource interface, including instances of objects such as WMSRasterSource and WMTSRasterSource. Note that image retrievals are done at draw time, not at creation time.\n",
    "add_wms(wms, layers, wms_kwargs=None, **kwargs)[source]```"
   ]
  },
  {
   "cell_type": "markdown",
   "metadata": {},
   "source": [
    "```Add the specified WMS layer to the axes.\n",
    "\n",
    "This function requires owslib and PIL to work.\n",
    "\n",
    "wms\n",
    ": string or owslib.wms.WebMapService instance\n",
    "The web map service URL or owslib WMS instance to use.\n",
    "layers\n",
    ": string or iterable of string\n",
    "The name of the layer(s) to use.\n",
    "wms_kwargs\n",
    ": dict or None\n",
    "Passed through to the WMSRasterSource constructor’s getmap_extra_kwargs for defining getmap time keyword arguments.\n",
    "All other keywords are passed through to the construction of the image artist. See imshow() for more details.```"
   ]
  },
  {
   "cell_type": "markdown",
   "metadata": {},
   "source": [
    "### add_wmts(wmts, layer_name, wmts_kwargs=None, **kwargs)[source]"
   ]
  },
  {
   "cell_type": "markdown",
   "metadata": {},
   "source": [
    "```Add the specified WMTS layer to the axes.\n",
    "\n",
    "This function requires owslib and PIL to work.\n",
    "\n",
    "Args:\n",
    "\n",
    "wmts - The URL of the WMTS, or an\n",
    "owslib.wmts.WebMapTileService instance.\n",
    "\n",
    "layer_name - The name of the layer to use.\n",
    "\n",
    "Kwargs:\n",
    "\n",
    "wmts_kwargs - dict or None. Passed through to the\n",
    "WMTSRasterSource constructor’s gettile_extra_kwargs (e.g. time).\n",
    "\n",
    "All other keywords are passed through to the construction of the image artist. See imshow() for more details.```"
   ]
  },
  {
   "cell_type": "markdown",
   "metadata": {},
   "source": [
    "### background_img(name='ne_shaded', resolution='low', extent=None, cache=False)[source]"
   ]
  },
  {
   "cell_type": "markdown",
   "metadata": {},
   "source": [
    "Adds a background image to the map, from a selection of pre-prepared images held in a directory specified by the CARTOPY_USER_BACKGROUNDS environment variable. That directory is checked with func:self.read_user_background_images and needs to contain a JSON file which defines for the image metadata.\n",
    "\n",
    "Kwargs:\n",
    "\n",
    "name - the name of the image to read according to the contents\n",
    "of the JSON file. A typical file might have, for instance: ‘ne_shaded’ : Natural Earth Shaded Relief ‘ne_grey’ : Natural Earth Grey Earth\n",
    "\n",
    "resolution - the resolution of the image to read, according to\n",
    "the contents of the JSON file. A typical file might have the following for each name of the image: ‘low’, ‘med’, ‘high’, ‘vhigh’, ‘full’.\n",
    "\n",
    "extent - using a high resolution background image, zoomed into\n",
    "a small area, will take a very long time to render as the image is prepared globally, even though only a small area is used. Adding the extent will only render a particular geographic region. Specified as [longitude start, longitude end,\n",
    "\n",
    "latitude start, latitude end].\n",
    "\n",
    "e.g. [-11, 3, 48, 60] for the UK or [167.0, 193.0, 47.0, 68.0] to cross the date line.\n",
    "\n",
    "cache - logical flag as to whether or not to cache the loaded\n",
    "images into memory. The images are stored before the extent is used.\n",
    "\n",
    "background_patch = None\n",
    "The patch that provides the filled background of the projection."
   ]
  },
  {
   "cell_type": "markdown",
   "metadata": {},
   "source": [
    "### barbs(x, y, u, v, *args, **kwargs)[source]"
   ]
  },
  {
   "cell_type": "markdown",
   "metadata": {},
   "source": [
    "Plot a field of barbs.\n",
    "\n",
    "Extra Kwargs:\n",
    "\n",
    "transform: cartopy.crs.Projection or matplotlib transform\n",
    "The coordinate system in which the vectors are defined.\n",
    "\n",
    "regrid_shape: int or 2-tuple of ints\n",
    "If given, specifies that the points where the arrows are located will be interpolated onto a regular grid in projection space. If a single integer is given then that will be used as the minimum grid length dimension, while the other dimension will be scaled up according to the target extent’s aspect ratio. If a pair of ints are given they determine the grid length in the x and y directions respectively.\n",
    "\n",
    "target_extent: 4-tuple\n",
    "If given, specifies the extent in the target CRS that the regular grid defined by regrid_shape will have. Defaults to the current extent of the map projection.\n",
    "\n",
    "See matplotlib.pyplot.barbs() for details on arguments and keyword arguments.\n",
    "\n",
    "Note\n",
    "\n",
    "The vector components must be defined as grid eastward and grid northward."
   ]
  },
  {
   "cell_type": "markdown",
   "metadata": {},
   "source": [
    "### coastlines(resolution='110m', color='black', **kwargs)[source]"
   ]
  },
  {
   "cell_type": "markdown",
   "metadata": {},
   "source": [
    "Adds coastal outlines to the current axes from the Natural Earth “coastline” shapefile collection.\n",
    "\n",
    "Kwargs:\n",
    "\n",
    "resolution - a named resolution to use from the Natural Earth\n",
    "dataset. Currently can be one of “110m”, “50m”, and “10m”.\n",
    "\n",
    "Note\n",
    "\n",
    "Currently no clipping is done on the coastlines before adding them to the axes. This means, if very high resolution coastlines are being used, performance is likely to be severely effected. This should be resolved transparently by v0.5."
   ]
  },
  {
   "cell_type": "markdown",
   "metadata": {},
   "source": [
    "### get_extent(crs=None)[source]"
   ]
  },
  {
   "cell_type": "markdown",
   "metadata": {},
   "source": [
    "Get the extent (x0, x1, y0, y1) of the map in the given coordinate system.\n",
    "\n",
    "If no crs is given, the returned extents’ coordinate system will be the CRS of this Axes."
   ]
  },
  {
   "cell_type": "markdown",
   "metadata": {},
   "source": [
    "### gridlines(crs=None, draw_labels=False, xlocs=None, ylocs=None, **kwargs)[source]"
   ]
  },
  {
   "cell_type": "markdown",
   "metadata": {},
   "source": [
    "```\n",
    "Automatically adds gridlines to the axes, in the given coordinate system, at draw time.\n",
    "\n",
    "Kwargs:\n",
    "\n",
    "crs\n",
    "The cartopy._crs.CRS defining the coordinate system in which gridlines are drawn. Default is cartopy.crs.PlateCarree.\n",
    "\n",
    "draw_labels\n",
    "Label gridlines like axis ticks, around the edge.\n",
    "\n",
    "xlocs\n",
    "An iterable of gridline locations or a matplotlib.ticker.Locator instance which will be used to determine the locations of the gridlines in the x-coordinate of the given CRS. Defaults to None, which implies automatic locating of the gridlines.\n",
    "\n",
    "ylocs\n",
    "An iterable of gridline locations or a matplotlib.ticker.Locator instance which will be used to determine the locations of the gridlines in the y-coordinate of the given CRS. Defaults to None, which implies automatic locating of the gridlines.\n",
    "\n",
    "Returns:\n",
    "\n",
    "A cartopy.mpl.gridliner.Gridliner instance.\n",
    "All other keywords control line properties. These are passed through to matplotlib.collections.Collection.\n",
    "```"
   ]
  },
  {
   "cell_type": "markdown",
   "metadata": {},
   "source": [
    "### hold_limits(*args, **kwds)[source]"
   ]
  },
  {
   "cell_type": "markdown",
   "metadata": {},
   "source": [
    "```\n",
    "Keep track of the original view and data limits for the life of this context manager, optionally reverting any changes back to the original values after the manager exits.\n",
    "\n",
    "hold\n",
    ": bool (default True)\n",
    "Whether to revert the data and view limits after the context manager exits.\n",
    "```"
   ]
  },
  {
   "cell_type": "markdown",
   "metadata": {},
   "source": [
    "### natural_earth_shp(name='land', resolution='110m', category='physical', **kwargs)[source]"
   ]
  },
  {
   "cell_type": "markdown",
   "metadata": {},
   "source": [
    "```\n",
    "Adds the geometries from the specified Natural Earth shapefile to the Axes as a PathCollection.\n",
    "\n",
    "**kwargs are passed through to the PathCollection constructor.\n",
    "\n",
    "Returns the created PathCollection.\n",
    "\n",
    "Note\n",
    "\n",
    "Currently no clipping is done on the geometries before adding them to the axes. This means, if very high resolution geometries are being used, performance is likely to be severely effected. This should be resolved transparently by v0.5.\n",
    "\n",
    "outline_patch = None\n",
    "The patch that provides the line bordering the projection.\n",
    "\n",
    "projection = None\n",
    "The cartopy.crs.Projection of this GeoAxes.\n",
    "\n",
    "quiver(x, y, u, v, *args, **kwargs)[source]\n",
    "```"
   ]
  },
  {
   "cell_type": "markdown",
   "metadata": {},
   "source": [
    "```\n",
    "Plot a field of arrows.\n",
    "\n",
    "Extra Kwargs:\n",
    "\n",
    "transform: cartopy.crs.Projection or matplotlib transform\n",
    "The coordinate system in which the vectors are defined.\n",
    "\n",
    "regrid_shape: int or 2-tuple of ints\n",
    "If given, specifies that the points where the arrows are located will be interpolated onto a regular grid in projection space. If a single integer is given then that will be used as the minimum grid length dimension, while the other dimension will be scaled up according to the target extent’s aspect ratio. If a pair of ints are given they determine the grid length in the x and y directions respectively.\n",
    "\n",
    "target_extent: 4-tuple\n",
    "If given, specifies the extent in the target CRS that the regular grid defined by regrid_shape will have. Defaults to the current extent of the map projection.\n",
    "\n",
    "See matplotlib.pyplot.quiver() for details on arguments and other keyword arguments.\n",
    "\n",
    "Note\n",
    "\n",
    "The vector components must be defined as grid eastward and grid northward.\n",
    "```"
   ]
  },
  {
   "cell_type": "markdown",
   "metadata": {},
   "source": [
    "### read_user_background_images(verify=True)[source]"
   ]
  },
  {
   "cell_type": "markdown",
   "metadata": {},
   "source": [
    "```\n",
    "Reads the metadata in the specified CARTOPY_USER_BACKGROUNDS environment variable to populate the dictionaries for background_img.\n",
    "\n",
    "If CARTOPY_USER_BACKGROUNDS is not set then by default the image in lib/cartopy/data/raster/natural_earth/ will be made available.\n",
    "\n",
    "The metadata should be a standard JSON file which specifies a two level dictionary. The first level is the image type. For each image type there must be the fields: __comment__, __source__ and __projection__ and then an element giving the filename for each resolution.\n",
    "\n",
    "An example JSON file can be found at: lib/cartopy/data/raster/natural_earth/images.json\n",
    "```"
   ]
  },
  {
   "cell_type": "markdown",
   "metadata": {},
   "source": [
    "### set_boundary(path, transform=None, use_as_clip_path=True)[source]"
   ]
  },
  {
   "cell_type": "markdown",
   "metadata": {},
   "source": [
    "```\n",
    "Given a path, update the outline_patch and background_patch to take its shape.\n",
    "\n",
    "path\n",
    ": matplotlib.path.Path\n",
    "The path of the desired boundary.\n",
    "transform\n",
    ": None or matplotlib.transforms.Transform\n",
    "The coordinate system of the given path. Currently this must be convertible to data coordinates, and therefore cannot extend beyond the limits of the axes’ projection.\n",
    "use_as_clip_path\n",
    ": bool\n",
    "Whether axes.patch should be updated. Updating axes.patch means that any artists subsequently created will inherit clipping from this path, rather than the standard unit square in axes coordinates.\n",
    "```"
   ]
  },
  {
   "cell_type": "markdown",
   "metadata": {},
   "source": [
    "### set_extent(extents, crs=None)[source]"
   ]
  },
  {
   "cell_type": "markdown",
   "metadata": {},
   "source": [
    "Set the extent (x0, x1, y0, y1) of the map in the given coordinate system.\n",
    "\n",
    "If no crs is given, the extents’ coordinate system will be assumed to be the Geodetic version of this axes’ projection."
   ]
  },
  {
   "cell_type": "markdown",
   "metadata": {},
   "source": [
    "### set_global()[source]"
   ]
  },
  {
   "cell_type": "markdown",
   "metadata": {},
   "source": [
    "Set the extent of the Axes to the limits of the projection.\n",
    "\n",
    "Note\n",
    "\n",
    "In some cases where the projection has a limited sensible range the set_global method does not actually make the whole globe visible. Instead, the most appropriate extents will be used (e.g. Ordnance Survey UK will set the extents to be around the British Isles."
   ]
  },
  {
   "cell_type": "markdown",
   "metadata": {},
   "source": [
    "### set_xticks(ticks, minor=False, crs=None)[source]"
   ]
  },
  {
   "cell_type": "markdown",
   "metadata": {},
   "source": [
    "Set the x ticks.\n",
    "\n",
    "Args:\n",
    "\n",
    "ticks - list of floats denoting the desired position of x ticks.\n",
    "Kwargs:\n",
    "\n",
    "minor - boolean flag indicating whether the ticks should be minor\n",
    "ticks i.e. small and unlabelled (default is False).\n",
    "\n",
    "crs - An instance of CRS indicating the\n",
    "coordinate system of the provided tick values. If no coordinate system is specified then the values are assumed to be in the coordinate system of the projection. Only transformations from one rectangular coordinate system to another rectangular coordinate system are supported.\n",
    "\n",
    "Note\n",
    "\n",
    "This interface is subject to change whilst functionality is added to support other map projections."
   ]
  },
  {
   "cell_type": "markdown",
   "metadata": {},
   "source": [
    "### set_yticks(ticks, minor=False, crs=None)[source]"
   ]
  },
  {
   "cell_type": "markdown",
   "metadata": {},
   "source": [
    "Set the y ticks.\n",
    "\n",
    "Args:\n",
    "\n",
    "ticks - list of floats denoting the desired position of y ticks.\n",
    "Kwargs:\n",
    "\n",
    "minor - boolean flag indicating whether the ticks should be minor\n",
    "ticks i.e. small and unlabelled (default is False).\n",
    "\n",
    "crs - An instance of CRS indicating the\n",
    "coordinate system of the provided tick values. If no coordinate system is specified then the values are assumed to be in the coordinate system of the projection. Only transformations from one rectangular coordinate system to another rectangular coordinate system are supported.\n",
    "\n",
    "Note\n",
    "\n",
    "This interface is subject to change whilst functionality is added to support other map projections."
   ]
  },
  {
   "cell_type": "markdown",
   "metadata": {},
   "source": [
    "### stock_img(name='ne_shaded')[source]"
   ]
  },
  {
   "cell_type": "markdown",
   "metadata": {},
   "source": [
    "```\n",
    "Add a standard image to the map.\n",
    "\n",
    "Currently, the only (and default) option is a downsampled version of the Natural Earth shaded relief raster.\n",
    "\n",
    "streamplot(x, y, u, v, **kwargs)[source]\n",
    "Draws streamlines of a vector flow.\n",
    "\n",
    "Extra Kwargs:\n",
    "\n",
    "transform: cartopy.crs.Projection or matplotlib transform\n",
    "The coordinate system in which the vector field is defined.\n",
    "\n",
    "See matplotlib.pyplot.streamplot() for details on arguments and keyword arguments.\n",
    "\n",
    "Note\n",
    "\n",
    "The vector components must be defined as grid eastward and grid northward.```"
   ]
  },
  {
   "cell_type": "markdown",
   "metadata": {},
   "source": [
    "### tissot(rad_km=500000.0, lons=None, lats=None, n_samples=80, **kwargs)[source]"
   ]
  },
  {
   "cell_type": "markdown",
   "metadata": {},
   "source": [
    "```\n",
    "Adds Tissot’s indicatrices to the axes.\n",
    "\n",
    "Kwargs:\n",
    "\n",
    "rad_km - The radius in km of the the circles to be drawn.\n",
    "\n",
    "lons - A numpy.ndarray, list or tuple of longitude values that\n",
    "locate the centre of each circle. Specifying more than one dimension allows individual points to be drawn whereas a 1D array produces a grid of points.\n",
    "\n",
    "lats - A numpy.ndarray, list or tuple of latitude values that\n",
    "that locate the centre of each circle. See lons.\n",
    "\n",
    "n_samples - Integer number of points sampled around the\n",
    "circumference of each circle.\n",
    "\n",
    "**kwargs are passed through to class:ShapelyFeature.\n",
    "\n",
    "class cartopy.mpl.geoaxes.GeoAxesSubplot\n",
    "See cartopy.mpl.geoaxes.GeoAxes.```"
   ]
  },
  {
   "cell_type": "markdown",
   "metadata": {},
   "source": [
    "### cartopy.mpl.patch.path_to_geos(path, force_ccw=False)[source]"
   ]
  },
  {
   "cell_type": "markdown",
   "metadata": {},
   "source": [
    "```\n",
    "Creates a list of Shapely geometric objects from a matplotlib.path.Path.\n",
    "\n",
    "Args:\n",
    "\n",
    "path\n",
    "A matplotlib.path.Path instance.\n",
    "\n",
    "Kwargs:\n",
    "\n",
    "force_ccw\n",
    "Boolean flag determining whether the path can be inverted to enforce ccw.\n",
    "\n",
    "Returns:\n",
    "A list of shapely.geometry.polygon.Polygon, shapely.geometry.linestring.LineString and/or shapely.geometry.multilinestring.MultiLineString instances.```"
   ]
  },
  {
   "cell_type": "markdown",
   "metadata": {},
   "source": [
    "### cartopy.mpl.patch.geos_to_path(shape)[source]"
   ]
  },
  {
   "cell_type": "markdown",
   "metadata": {},
   "source": [
    "```\n",
    "Creates a list of matplotlib.path.Path objects that describe a shape.\n",
    "\n",
    "Args:\n",
    "\n",
    "shape\n",
    "A list, tuple or single instance of any of the following types: shapely.geometry.point.Point, shapely.geometry.linestring.LineString, shapely.geometry.polygon.Polygon, shapely.geometry.multipoint.MultiPoint, shapely.geometry.multipolygon.MultiPolygon, shapely.geometry.multilinestring.MultiLineString, shapely.geometry.collection.GeometryCollection, or any type with a _as_mpl_path() method.\n",
    "\n",
    "Returns:\n",
    "A list of matplotlib.path.Path objects.\n",
    "```"
   ]
  }
 ],
 "metadata": {
  "kernelspec": {
   "display_name": "Python 3",
   "language": "python",
   "name": "python3"
  },
  "language_info": {
   "codemirror_mode": {
    "name": "ipython",
    "version": 3
   },
   "file_extension": ".py",
   "mimetype": "text/x-python",
   "name": "python",
   "nbconvert_exporter": "python",
   "pygments_lexer": "ipython3",
   "version": "3.6.1"
  }
 },
 "nbformat": 4,
 "nbformat_minor": 2
}
